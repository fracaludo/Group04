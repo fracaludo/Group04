{
 "cells": [
  {
   "cell_type": "code",
   "execution_count": 21,
   "id": "5410b88e-083c-4c85-9c45-6dc36739a59b",
   "metadata": {},
   "outputs": [
    {
     "name": "stdout",
     "output_type": "stream",
     "text": [
      "The subsets contain each several hundred rows from the data set so just the first 10 were displayed here.\n",
      "\n",
      "First 10 Rows where Lipinski's Rule of Five != 0 and Mannhold LogP <= 5:\n",
      "Row 3: Lipinski's Rule of Five = 3, Mannhold LogP = 0.25\n",
      "Row 11: Lipinski's Rule of Five = 2, Mannhold LogP = 2.34\n",
      "Row 12: Lipinski's Rule of Five = 2, Mannhold LogP = 2.34\n",
      "Row 22: Lipinski's Rule of Five = 1, Mannhold LogP = 4.32\n",
      "Row 29: Lipinski's Rule of Five = 1, Mannhold LogP = 2.45\n",
      "Row 34: Lipinski's Rule of Five = 2, Mannhold LogP = 3.99\n",
      "Row 54: Lipinski's Rule of Five = 2, Mannhold LogP = 1.57\n",
      "Row 91: Lipinski's Rule of Five = 1, Mannhold LogP = 2.78\n",
      "Row 102: Lipinski's Rule of Five = 3, Mannhold LogP = 4.98\n",
      "Row 114: Lipinski's Rule of Five = 1, Mannhold LogP = 0.25\n",
      "\n",
      "First 10 Rows where Lipinski's Rule of Five == 0 and Molecular Weight <= 500:\n",
      "Row 0: Lipinski's Rule of Five = 0, Molecular Weight = 17.026549096\n",
      "Row 1: Lipinski's Rule of Five = 0, Molecular Weight = 180.042258736\n",
      "Row 2: Lipinski's Rule of Five = 0, Molecular Weight = 26.015650064\n",
      "Row 4: Lipinski's Rule of Five = 0, Molecular Weight = 349.109627088001\n",
      "Row 5: Lipinski's Rule of Five = 0, Molecular Weight = 176.032087976\n",
      "Row 6: Lipinski's Rule of Five = 0, Molecular Weight = 176.032087976\n",
      "Row 7: Lipinski's Rule of Five = 0, Molecular Weight = 135.104799416\n",
      "Row 8: Lipinski's Rule of Five = 0, Molecular Weight = 294.121571676\n",
      "Row 9: Lipinski's Rule of Five = 0, Molecular Weight = 365.104541708\n",
      "Row 10: Lipinski's Rule of Five = 0, Molecular Weight = 117.078978592\n"
     ]
    }
   ],
   "source": [
    "import pandas as pd\n",
    "\n",
    "file_path = '/Users/ludovica/Documents/Bachelor/BA5/Modeling Lab/4-Molecules.csv'\n",
    "df = pd.read_csv(file_path)\n",
    "\n",
    "df.columns = df.columns.str.strip()\n",
    "\n",
    "# Convert relevant columns to numeric\n",
    "df['Mannhold LogP'] = pd.to_numeric(df['Mannhold LogP'], errors='coerce')\n",
    "df['Molecular Weight'] = pd.to_numeric(df['Molecular Weight'], errors='coerce')\n",
    "df['Lipinski\\'s Rule of Five'] = pd.to_numeric(df['Lipinski\\'s Rule of Five'], errors='coerce')\n",
    "\n",
    "# Set 1: Rows where Lipinski's Rule of Five != 0 and Mannhold LogP <= 5\n",
    "subset1 = df[(df['Lipinski\\'s Rule of Five'] != 0) & (df['Mannhold LogP'] <= 5)]\n",
    "\n",
    "# Set 2: Rows where Lipinski's Rule of Five == 0 and Molecular Weight <= 500\n",
    "subset2 = df[(df['Lipinski\\'s Rule of Five'] == 0) & (df['Molecular Weight'] <= 500)]\n",
    "\n",
    "# 10 results for Subset 1\n",
    "print(\"The subsets contain each several hundred rows from the data set so just the first 10 were displayed here.\")\n",
    "print(\"\\nFirst 10 Rows where Lipinski's Rule of Five != 0 and Mannhold LogP <= 5:\")\n",
    "for index, row in subset1.head(10).iterrows():\n",
    "    print(\"Row {}: Lipinski's Rule of Five = {}, Mannhold LogP = {}\".format(\n",
    "        index, row['Lipinski\\'s Rule of Five'], row['Mannhold LogP']\n",
    "    ))\n",
    "\n",
    "# 10 results for Subset 2\n",
    "print(\"\\nFirst 10 Rows where Lipinski's Rule of Five == 0 and Molecular Weight <= 500:\")\n",
    "for index, row in subset2.head(10).iterrows():\n",
    "    print(\"Row {}: Lipinski's Rule of Five = {}, Molecular Weight = {}\".format(\n",
    "        index, row['Lipinski\\'s Rule of Five'], row['Molecular Weight']\n",
    "    ))\n",
    "\n"
   ]
  },
  {
   "cell_type": "markdown",
   "id": "c89e10d6-41d2-4459-a591-bf07e7958c36",
   "metadata": {},
   "source": [
    "Lipinski's rule of five helps predict if a bioactive molecule is likely to be orally active in humans such as drugs, it helps identifying hydrophobic compounds that can more easily penetrate membranes. A value different from 0 indicates one of the following is being broken and the compound is not orally active. \n",
    "    1. Molecular Weight <= 500 Da\n",
    "    2. logP<=5\n",
    "    3. hydrogen bond donors<=5\n",
    "    4. hydrogen bond acceptors <=10.\n",
    "The first subset identifies the compounds that are not orally active i.e. the Lipinski's value is different from 0, but whose problem is not the partition coefficient i.e. logP<=5.\n",
    "The second subset identifies the compounds that are predicted to be orally active i.e. Lipiski's value is 0 (no rules are broken) and the molecular weight is lower than 500 Da. This subset helped understand what the value 0 meant: wether it indicated 0 drug activity or 0 rules broken. "
   ]
  },
  {
   "cell_type": "code",
   "execution_count": null,
   "id": "bc07efae-184a-4ffb-92be-8a7c5b983ef5",
   "metadata": {},
   "outputs": [],
   "source": []
  }
 ],
 "metadata": {
  "kernelspec": {
   "display_name": "Python 3 (ipykernel)",
   "language": "python",
   "name": "python3"
  },
  "language_info": {
   "codemirror_mode": {
    "name": "ipython",
    "version": 3
   },
   "file_extension": ".py",
   "mimetype": "text/x-python",
   "name": "python",
   "nbconvert_exporter": "python",
   "pygments_lexer": "ipython3",
   "version": "3.9.19"
  }
 },
 "nbformat": 4,
 "nbformat_minor": 5
}
