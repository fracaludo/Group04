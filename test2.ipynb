{
 "cells": [
  {
   "cell_type": "code",
   "execution_count": 1,
   "id": "38cc1d1c-e09b-4ec6-bfd9-18a2f307e040",
   "metadata": {},
   "outputs": [
    {
     "name": "stdout",
     "output_type": "stream",
     "text": [
      "Maximum number of function evaluations has been exceeded.\n",
      "('\\n\\tDefault starting guess for parameters:', {'M': np.float64(1.2318889363), 'K': np.float64(0.10210387600218326)})\n"
     ]
    },
    {
     "ename": "Exception",
     "evalue": "Minimization of RSS for Langmuir isotherm fitting\n            failed. Try a different starting point in the nonlinear optimization\n            by passing a dictionary of parameter guesses, param_guess, to the\n            constructor",
     "output_type": "error",
     "traceback": [
      "\u001b[1;31m---------------------------------------------------------------------------\u001b[0m",
      "\u001b[1;31mException\u001b[0m                                 Traceback (most recent call last)",
      "Cell \u001b[1;32mIn[1], line 23\u001b[0m\n\u001b[0;32m     20\u001b[0m co2_isotherm_data \u001b[38;5;241m=\u001b[39m pd\u001b[38;5;241m.\u001b[39mDataFrame({\u001b[38;5;124m'\u001b[39m\u001b[38;5;124mpressure\u001b[39m\u001b[38;5;124m'\u001b[39m: pressure_co2, \u001b[38;5;124m'\u001b[39m\u001b[38;5;124mloading\u001b[39m\u001b[38;5;124m'\u001b[39m: loading_co2})\n\u001b[0;32m     22\u001b[0m \u001b[38;5;66;03m# Fit Langmuir model to the data\u001b[39;00m\n\u001b[1;32m---> 23\u001b[0m ch4_isotherm \u001b[38;5;241m=\u001b[39m \u001b[43mpyiast\u001b[49m\u001b[38;5;241;43m.\u001b[39;49m\u001b[43mModelIsotherm\u001b[49m\u001b[43m(\u001b[49m\u001b[43mch4_isotherm_data\u001b[49m\u001b[43m,\u001b[49m\u001b[43m \u001b[49m\u001b[43mloading_key\u001b[49m\u001b[38;5;241;43m=\u001b[39;49m\u001b[38;5;124;43m'\u001b[39;49m\u001b[38;5;124;43mloading\u001b[39;49m\u001b[38;5;124;43m'\u001b[39;49m\u001b[43m,\u001b[49m\u001b[43m \u001b[49m\u001b[43mpressure_key\u001b[49m\u001b[38;5;241;43m=\u001b[39;49m\u001b[38;5;124;43m'\u001b[39;49m\u001b[38;5;124;43mpressure\u001b[39;49m\u001b[38;5;124;43m'\u001b[39;49m\u001b[43m,\u001b[49m\u001b[43m \u001b[49m\u001b[43mmodel\u001b[49m\u001b[38;5;241;43m=\u001b[39;49m\u001b[38;5;124;43m\"\u001b[39;49m\u001b[38;5;124;43mLangmuir\u001b[39;49m\u001b[38;5;124;43m\"\u001b[39;49m\u001b[43m)\u001b[49m\n\u001b[0;32m     24\u001b[0m co2_isotherm \u001b[38;5;241m=\u001b[39m pyiast\u001b[38;5;241m.\u001b[39mModelIsotherm(co2_isotherm_data, loading_key\u001b[38;5;241m=\u001b[39m\u001b[38;5;124m'\u001b[39m\u001b[38;5;124mloading\u001b[39m\u001b[38;5;124m'\u001b[39m, pressure_key\u001b[38;5;241m=\u001b[39m\u001b[38;5;124m'\u001b[39m\u001b[38;5;124mpressure\u001b[39m\u001b[38;5;124m'\u001b[39m, model\u001b[38;5;241m=\u001b[39m\u001b[38;5;124m\"\u001b[39m\u001b[38;5;124mLangmuir\u001b[39m\u001b[38;5;124m\"\u001b[39m)\n\u001b[0;32m     26\u001b[0m \u001b[38;5;66;03m# Step 2: Define the mixture properties\u001b[39;00m\n\u001b[0;32m     27\u001b[0m \u001b[38;5;66;03m# Here we assume the molar composition of 60% CH4 and 40% CO2 in the binary mixture\u001b[39;00m\n",
      "File \u001b[1;32m~\\miniconda3\\envs\\modlab\\lib\\site-packages\\pyiast\\isotherms.py:243\u001b[0m, in \u001b[0;36mModelIsotherm.__init__\u001b[1;34m(self, df, loading_key, pressure_key, model, param_guess, optimization_method)\u001b[0m\n\u001b[0;32m    240\u001b[0m \u001b[38;5;28mself\u001b[39m\u001b[38;5;241m.\u001b[39mparams \u001b[38;5;241m=\u001b[39m copy\u001b[38;5;241m.\u001b[39mdeepcopy(_MODEL_PARAMS[model])\n\u001b[0;32m    242\u001b[0m \u001b[38;5;66;03m# fit model to isotherm data in self.df\u001b[39;00m\n\u001b[1;32m--> 243\u001b[0m \u001b[38;5;28;43mself\u001b[39;49m\u001b[38;5;241;43m.\u001b[39;49m\u001b[43m_fit\u001b[49m\u001b[43m(\u001b[49m\u001b[43moptimization_method\u001b[49m\u001b[43m)\u001b[49m\n",
      "File \u001b[1;32m~\\miniconda3\\envs\\modlab\\lib\\site-packages\\pyiast\\isotherms.py:320\u001b[0m, in \u001b[0;36mModelIsotherm._fit\u001b[1;34m(self, optimization_method)\u001b[0m\n\u001b[0;32m    317\u001b[0m     \u001b[38;5;28mprint\u001b[39m((opt_res\u001b[38;5;241m.\u001b[39mmessage))\n\u001b[0;32m    318\u001b[0m     \u001b[38;5;28mprint\u001b[39m((\u001b[38;5;124m\"\u001b[39m\u001b[38;5;130;01m\\n\u001b[39;00m\u001b[38;5;130;01m\\t\u001b[39;00m\u001b[38;5;124mDefault starting guess for parameters:\u001b[39m\u001b[38;5;124m\"\u001b[39m,\n\u001b[0;32m    319\u001b[0m            \u001b[38;5;28mself\u001b[39m\u001b[38;5;241m.\u001b[39mparam_guess))\n\u001b[1;32m--> 320\u001b[0m     \u001b[38;5;28;01mraise\u001b[39;00m \u001b[38;5;167;01mException\u001b[39;00m(\u001b[38;5;124m\"\"\"\u001b[39m\u001b[38;5;124mMinimization of RSS for \u001b[39m\u001b[38;5;132;01m%s\u001b[39;00m\u001b[38;5;124m isotherm fitting\u001b[39m\n\u001b[0;32m    321\u001b[0m \u001b[38;5;124m    failed. Try a different starting point in the nonlinear optimization\u001b[39m\n\u001b[0;32m    322\u001b[0m \u001b[38;5;124m    by passing a dictionary of parameter guesses, param_guess, to the\u001b[39m\n\u001b[0;32m    323\u001b[0m \u001b[38;5;124m    constructor\u001b[39m\u001b[38;5;124m\"\"\"\u001b[39m \u001b[38;5;241m%\u001b[39m \u001b[38;5;28mself\u001b[39m\u001b[38;5;241m.\u001b[39mmodel)\n\u001b[0;32m    325\u001b[0m \u001b[38;5;66;03m# assign params\u001b[39;00m\n\u001b[0;32m    326\u001b[0m \u001b[38;5;28;01mfor\u001b[39;00m j \u001b[38;5;129;01min\u001b[39;00m \u001b[38;5;28mrange\u001b[39m(\u001b[38;5;28mlen\u001b[39m(param_names)):\n",
      "\u001b[1;31mException\u001b[0m: Minimization of RSS for Langmuir isotherm fitting\n            failed. Try a different starting point in the nonlinear optimization\n            by passing a dictionary of parameter guesses, param_guess, to the\n            constructor"
     ]
    }
   ],
   "source": [
    "import numpy as np\n",
    "import pandas as pd\n",
    "import matplotlib.pyplot as plt\n",
    "import pyiast\n",
    "\n",
    "# Load the data from your CSV files\n",
    "ch4_data = pd.read_csv('/Users/emmak/github/CH4_IRMOF1.csv')\n",
    "co2_data = pd.read_csv('/Users/emmak/github/CO2_IRMOF1.csv')\n",
    "\n",
    "# Extract pressure and loading\n",
    "pressure_ch4 = ch4_data.iloc[:, 0].values  # Pressure values for CH4\n",
    "loading_ch4 = ch4_data.iloc[:, 1].values   # CH4 loading values\n",
    "\n",
    "pressure_co2 = co2_data.iloc[:, 0].values  # Pressure values for CO2\n",
    "loading_co2 = co2_data.iloc[:, 1].values   # CO2 loading values\n",
    "\n",
    "# Step 1: Fit pure component isotherms using pyIAST's Langmuir model\n",
    "# Create DataFrames with the appropriate column names for pyIAST\n",
    "ch4_isotherm_data = pd.DataFrame({'pressure': pressure_ch4, 'loading': loading_ch4})\n",
    "co2_isotherm_data = pd.DataFrame({'pressure': pressure_co2, 'loading': loading_co2})\n",
    "\n",
    "# Fit Langmuir model to the data\n",
    "ch4_isotherm = pyiast.ModelIsotherm(ch4_isotherm_data, loading_key='loading', pressure_key='pressure', model=\"Langmuir\")\n",
    "co2_isotherm = pyiast.ModelIsotherm(co2_isotherm_data, loading_key='loading', pressure_key='pressure', model=\"Langmuir\")\n",
    "\n",
    "# Step 2: Define the mixture properties\n",
    "# Here we assume the molar composition of 60% CH4 and 40% CO2 in the binary mixture\n",
    "molar_composition = [0.6, 0.4]\n",
    "\n",
    "# Step 3: Define the pressure range from 0.1 to 4.0 bar with increments of 0.2 bar\n",
    "pressures = np.arange(0.1, 4.1, 0.2)\n",
    "\n",
    "# Lists to store the IAST-calculated loadings for each gas\n",
    "loading_co2_mixture = []\n",
    "loading_ch4_mixture = []\n",
    "\n",
    "# Step 4: Use pyIAST to calculate binary mixture adsorption isotherms at each pressure\n",
    "for p in pressures:\n",
    "    loadings = pyiast.iast([co2_isotherm, ch4_isotherm], p, molar_composition)\n",
    "    loading_co2_mixture.append(loadings[0])  # CO2 loading at this pressure\n",
    "    loading_ch4_mixture.append(loadings[1])  # CH4 loading at this pressure\n",
    "\n",
    "# Step 5: Plot the binary mixture isotherms\n",
    "plt.figure(figsize=(8, 6), dpi=600)\n",
    "\n",
    "# Scatter plot CO2 and CH4 loadings\n",
    "plt.scatter(pressures, loading_co2_mixture, label=\"CO2 binary isotherm\", color='blue', marker='o')\n",
    "plt.scatter(pressures, loading_ch4_mixture, label=\"CH4 binary isotherm\", color='orange', marker='x')\n",
    "\n",
    "# Add labels and title\n",
    "plt.xlabel(\"Pressure [bar]\")\n",
    "plt.ylabel(\"Loading [mmol/g]\")\n",
    "plt.title(\"Binary Mixture Isotherms for CO2 and CH4 (60% CH4, 40% CO2)\")\n",
    "plt.legend()\n",
    "\n",
    "# Save the plot\n",
    "plt.savefig('/mnt/data/iast_binary_isotherms.png', dpi=600)\n",
    "\n",
    "# Show the plot\n",
    "plt.show()\n"
   ]
  },
  {
   "cell_type": "code",
   "execution_count": null,
   "id": "c9f31820-94b6-4ca7-9eec-1582fa7c0f9d",
   "metadata": {},
   "outputs": [],
   "source": []
  }
 ],
 "metadata": {
  "kernelspec": {
   "display_name": "Python 3 (ipykernel)",
   "language": "python",
   "name": "python3"
  },
  "language_info": {
   "codemirror_mode": {
    "name": "ipython",
    "version": 3
   },
   "file_extension": ".py",
   "mimetype": "text/x-python",
   "name": "python",
   "nbconvert_exporter": "python",
   "pygments_lexer": "ipython3",
   "version": "3.9.19"
  }
 },
 "nbformat": 4,
 "nbformat_minor": 5
}
