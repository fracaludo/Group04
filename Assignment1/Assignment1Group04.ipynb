{
 "cells": [
  {
   "cell_type": "markdown",
   "id": "80988fbe-f23b-4c53-9536-9dabff9f283b",
   "metadata": {},
   "source": [
    "## Assignment 1 - Group 04 - Nichelle Sequeira, Ludovica Fracassi & Emma Kappeler"
   ]
  },
  {
   "cell_type": "code",
   "execution_count": 1,
   "id": "92baf612",
   "metadata": {},
   "outputs": [],
   "source": [
    "# Import needed modules \n",
    "# numpy will be used to convert lists to arrays and to use log, exp and fitting functions\n",
    "import numpy as np \n",
    "# matplotlib will be used for plotting\n",
    "import matplotlib.pyplot as plt\n",
    "import os"
   ]
  },
  {
   "cell_type": "markdown",
   "id": "f57ac8b3",
   "metadata": {},
   "source": [
    "#### After the researcher did the fitting, she obtained the following values:\n",
    "    qsat = 4.72 mmol/g\n",
    "    k(263) = 6.75e-06 1/Pa\n",
    "    k(303) = 1.48e-06 1/Pa\n",
    "    k(343) = 5.16e-07 1/Pa"
   ]
  },
  {
   "cell_type": "code",
   "execution_count": 9,
   "id": "c1a72f46-100a-4d58-94c6-9a44ac97f3e4",
   "metadata": {},
   "outputs": [
    {
     "name": "stdout",
     "output_type": "stream",
     "text": [
      "Slope: 2905.4431 ± 46.4803\n",
      "Intercept: -22.9712 ± 0.1561\n",
      "R²: 0.9992\n",
      "ΔH (Heat of Absorption): -24155.9 J/mol\n",
      "k0 (Standard equilibrium constant): 1.056e-10\n"
     ]
    },
    {
     "data": {
      "image/png": "[encoded data removed]",
      "text/plain": [
       "<Figure size 640x480 with 1 Axes>"
      ]
     },
     "metadata": {},
     "output_type": "display_data"
    }
   ],
   "source": [
    "# # Group the temperatures and K values in arrays\n",
    "\n",
    "temperatures = np.array([263, 303, 343])\n",
    "k_values = np.array([6.75e-06, 1.48e-06, 5.16e-07])\n",
    "\n",
    "# # We know that we need to plot lnk vs. 1/T\n",
    "\n",
    "ln_k_values = np.log(k_values)\n",
    "inverse_T = 1 / temperatures\n",
    "\n",
    "# # Plot of lnk vs. 1/T\n",
    "\n",
    "plt.plot(inverse_T, ln_k_values, marker='o', linestyle='-', color='b')\n",
    "\n",
    "\n",
    "# # Solve for the unknowns by linear fitting\n",
    "\n",
    "# Calculate the number of data points\n",
    "n = len(inverse_T)\n",
    "\n",
    "# Calculate the sums needed for the regression\n",
    "sum_x = np.sum(inverse_T)\n",
    "sum_y = np.sum(ln_k_values)\n",
    "sum_xx = np.sum(inverse_T**2)\n",
    "sum_xy = np.sum(inverse_T * ln_k_values)\n",
    "\n",
    "# Calculate slope (m) and intercept (b)\n",
    "slope = (n * sum_xy - sum_x * sum_y) / (n * sum_xx - sum_x**2)\n",
    "intercept = (sum_y - slope * sum_x) / n\n",
    "\n",
    "# Calculate predictions and residuals\n",
    "ln_k_fit = intercept + slope * inverse_T\n",
    "residuals = ln_k_values - ln_k_fit\n",
    "\n",
    "# Calculate R-squared\n",
    "ss_total = np.sum((ln_k_values - np.mean(ln_k_values))**2)\n",
    "ss_residual = np.sum(residuals**2)\n",
    "r_squared = 1 - (ss_residual / ss_total)\n",
    "\n",
    "# Calculate standard deviations of the slope and intercept\n",
    "std_error = np.sqrt(ss_residual / (n - 2))\n",
    "slope_std = std_error / np.sqrt(n * np.sum((inverse_T - np.mean(inverse_T))**2))\n",
    "intercept_std = slope_std * np.sqrt(np.sum(inverse_T**2) / n)\n",
    "\n",
    "# Constants\n",
    "R = 8.314  # J/(mol·K)\n",
    "\n",
    "# Calculate ΔH and k0\n",
    "delta_H = -R * slope  \n",
    "k0 = np.exp(intercept)  \n",
    "\n",
    "\n",
    "# # Print the results\n",
    "\n",
    "print(f\"Slope: {slope:.4f} ± {slope_std:.4f}\")\n",
    "print(f\"Intercept: {intercept:.4f} ± {intercept_std:.4f}\")\n",
    "print(f\"R²: {r_squared:.4f}\")\n",
    "print(f\"ΔH (Heat of Absorption): {round(delta_H, 1):.1f} J/mol\")\n",
    "print(f\"k0 (Standard equilibrium constant): {k0:.3e}\")\n",
    "\n",
    "\n",
    "\n",
    "\n",
    "# Label the axes\n",
    "plt.xlabel('1/T (1/K)')\n",
    "plt.ylabel('ln(k_values)')\n",
    "\n",
    "# Show the plot\n",
    "plt.show()"
   ]
  },
  {
   "cell_type": "code",
   "execution_count": 4,
   "id": "729743c9",
   "metadata": {},
   "outputs": [
    {
     "name": "stdout",
     "output_type": "stream",
     "text": [
      "Henry Coefficients at 263K 303K 343K\n",
      "[3.18600e-05 6.98560e-06 2.43552e-06]\n"
     ]
    }
   ],
   "source": [
    "# Calculating the Henry's coefficients\n",
    "qsat = 4.72  # mmol/g\n",
    "\n",
    "# Remember the formula for Kh (mmol/(g.Pa))\n",
    "k_values = np.array([6.75e-06, 1.48e-06, 5.16e-07])  # 1/Pa\n",
    "k_values_multiplied = k_values * qsat\n",
    "\n",
    "#print the results\n",
    "print(\"Henry Coefficients at 263K 303K 343K\")\n",
    "print(k_values_multiplied)"
   ]
  }
 ],
 "metadata": {
  "kernelspec": {
   "display_name": "Python 3 (ipykernel)",
   "language": "python",
   "name": "python3"
  },
  "language_info": {
   "codemirror_mode": {
    "name": "ipython",
    "version": 3
   },
   "file_extension": ".py",
   "mimetype": "text/x-python",
   "name": "python",
   "nbconvert_exporter": "python",
   "pygments_lexer": "ipython3",
   "version": "3.9.19"
  }
 },
 "nbformat": 4,
 "nbformat_minor": 5
}
