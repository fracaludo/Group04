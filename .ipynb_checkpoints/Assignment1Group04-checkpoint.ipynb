{
 "cells": [
  {
   "cell_type": "markdown",
   "id": "80988fbe-f23b-4c53-9536-9dabff9f283b",
   "metadata": {},
   "source": [
    "## Assignment 1 - Group 04 - Nichelle Sequeira, Ludovica Fracassi & Emma Kappeler"
   ]
  },
  {
   "cell_type": "code",
   "execution_count": null,
   "id": "c1a72f46-100a-4d58-94c6-9a44ac97f3e4",
   "metadata": {},
   "outputs": [],
   "source": []
  }
 ],
 "metadata": {
  "kernelspec": {
   "display_name": "Python 3 (ipykernel)",
   "language": "python",
   "name": "python3"
  },
  "language_info": {
   "codemirror_mode": {
    "name": "ipython",
    "version": 3
   },
   "file_extension": ".py",
   "mimetype": "text/x-python",
   "name": "python",
   "nbconvert_exporter": "python",
   "pygments_lexer": "ipython3",
   "version": "3.9.19"
  }
 },
 "nbformat": 4,
 "nbformat_minor": 5
}
