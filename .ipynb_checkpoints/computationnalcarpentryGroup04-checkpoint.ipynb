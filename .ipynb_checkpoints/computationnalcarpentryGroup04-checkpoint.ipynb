{
 "cells": [
  {
   "cell_type": "markdown",
   "id": "d4047b4e-d3b0-4e75-b968-19a1c3b4575c",
   "metadata": {},
   "source": [
    "## Computational carpentry - Group 04 - Nichelle Sequeira, Ludovica Fracassi & Emma Kappeler"
   ]
  },
  {
   "cell_type": "markdown",
   "id": "0c8371a6-5540-4e91-a100-53e15569331f",
   "metadata": {},
   "source": [
    "### Part A"
   ]
  },
  {
   "cell_type": "code",
   "execution_count": null,
   "id": "85f0d967-16a4-4d1e-85af-2ff103669df0",
   "metadata": {},
   "outputs": [],
   "source": []
  },
  {
   "cell_type": "markdown",
   "id": "ade06bf3-c590-4a5f-b8b6-b861e1442d6d",
   "metadata": {},
   "source": [
    "### Part B"
   ]
  },
  {
   "cell_type": "code",
   "execution_count": null,
   "id": "94ec35a5-69f6-4b04-b744-631c73df6bca",
   "metadata": {},
   "outputs": [],
   "source": []
  },
  {
   "cell_type": "markdown",
   "id": "f736ddc6-00a7-4f61-a959-c4de64e3bab9",
   "metadata": {},
   "source": [
    "### Part C"
   ]
  },
  {
   "cell_type": "code",
   "execution_count": null,
   "id": "99b216b3-a4a6-4e27-ac02-16bd3794c32b",
   "metadata": {},
   "outputs": [],
   "source": []
  }
 ],
 "metadata": {
  "kernelspec": {
   "display_name": "Python 3 (ipykernel)",
   "language": "python",
   "name": "python3"
  },
  "language_info": {
   "codemirror_mode": {
    "name": "ipython",
    "version": 3
   },
   "file_extension": ".py",
   "mimetype": "text/x-python",
   "name": "python",
   "nbconvert_exporter": "python",
   "pygments_lexer": "ipython3",
   "version": "3.9.19"
  }
 },
 "nbformat": 4,
 "nbformat_minor": 5
}
